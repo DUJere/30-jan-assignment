{
 "cells": [
  {
   "cell_type": "markdown",
   "id": "2599a65d-e93f-4259-8043-33d508755b1a",
   "metadata": {},
   "source": [
    "Q 1 Answer"
   ]
  },
  {
   "cell_type": "code",
   "execution_count": 1,
   "id": "94a92f8b-d49a-473f-bc18-38ba5d4a0792",
   "metadata": {},
   "outputs": [
    {
     "name": "stdin",
     "output_type": "stream",
     "text": [
      "Enter the marks  50\n"
     ]
    },
    {
     "name": "stdout",
     "output_type": "stream",
     "text": [
      "D\n"
     ]
    }
   ],
   "source": [
    "Marks = int(input(\"Enter the marks \"))\n",
    "\n",
    "if Marks > 90 :\n",
    "    print(\"A\")\n",
    "elif Marks > 80 and  Marks <= 90 :\n",
    "    print(\"B\")\n",
    "elif Marks >=60 and Marks <= 80 :\n",
    "    print(\"C\")\n",
    "elif Marks < 60 :\n",
    "    print(\"D\")\n",
    "else :\n",
    "    print(\"Cannot determine\")"
   ]
  },
  {
   "cell_type": "markdown",
   "id": "fb9be6ff-299b-41bd-a776-2a8253b27984",
   "metadata": {},
   "source": [
    "Q 2 Answer"
   ]
  },
  {
   "cell_type": "code",
   "execution_count": 2,
   "id": "24b0a306-41d3-4ca7-8d9c-ac6f774c265b",
   "metadata": {},
   "outputs": [
    {
     "name": "stdin",
     "output_type": "stream",
     "text": [
      "Enter cost price  60000\n"
     ]
    },
    {
     "name": "stdout",
     "output_type": "stream",
     "text": [
      "10%\n"
     ]
    }
   ],
   "source": [
    "Cost_price = int(input(\"Enter cost price \"))\n",
    "\n",
    "if Cost_price > 100000 :\n",
    "    print(\"15%\")\n",
    "elif Cost_price > 50000 and Cost_price <= 100000 :\n",
    "    print(\"10%\")\n",
    "elif Cost_price <= 50000 :\n",
    "    print(\"5%\")\n",
    "else :\n",
    "    print(\"Cannot determine\")"
   ]
  },
  {
   "cell_type": "markdown",
   "id": "ce8306e9-afe2-4995-a8f5-3a516920725e",
   "metadata": {},
   "source": [
    "Q 3 Answer"
   ]
  },
  {
   "cell_type": "code",
   "execution_count": 7,
   "id": "8eb6d813-52c6-4030-8e60-b0e6be9e67b9",
   "metadata": {},
   "outputs": [
    {
     "name": "stdin",
     "output_type": "stream",
     "text": [
      "Enter city name Agra\n"
     ]
    },
    {
     "name": "stdout",
     "output_type": "stream",
     "text": [
      "Monument = Taj Mahal\n"
     ]
    }
   ],
   "source": [
    "City = input(\"Enter city name\")\n",
    "\n",
    "if City == \"Delhi\" :\n",
    "    print(\"Monument = \"+\"Red Fort\")\n",
    "elif City == \"Agra\" :\n",
    "    print(\"Monument = \"+\"Taj Mahal\")\n",
    "elif City == \"Jaipur\" :\n",
    "    print(\"Monument = \"+\"Jal Mahal\")\n",
    "else :\n",
    "    print(\"Cannot determine\")"
   ]
  },
  {
   "cell_type": "markdown",
   "id": "20786827-5867-492e-a57c-2c3695e1149f",
   "metadata": {},
   "source": [
    "Q 4 Answer"
   ]
  },
  {
   "cell_type": "code",
   "execution_count": 4,
   "id": "1fffa091-58a2-41dc-9260-bd78925e0406",
   "metadata": {},
   "outputs": [
    {
     "name": "stdin",
     "output_type": "stream",
     "text": [
      "Enter number 70\n"
     ]
    },
    {
     "name": "stdout",
     "output_type": "stream",
     "text": [
      "Number of times given number can be divided by 3 =  2\n"
     ]
    }
   ],
   "source": [
    "number = int(input(\"Enter number\"))\n",
    "\n",
    "count = 0 \n",
    "\n",
    "while number > 10 :\n",
    "    number = number / 3\n",
    "    count = count + 1\n",
    "print(\"Number of times given number can be divided by 3 = \", count)"
   ]
  },
  {
   "cell_type": "markdown",
   "id": "3111d5a6-6e41-430b-9096-7873f37a6c7d",
   "metadata": {},
   "source": [
    "Q 5. Why and when use while loop in python give a detailed description with example ."
   ]
  },
  {
   "cell_type": "markdown",
   "id": "ae07c3a8-d10e-4ab5-8ad0-3cb33e832dff",
   "metadata": {},
   "source": [
    "Ans.  1. Python While Loop is used to execute a block of statements repeatedly until a given condition is satisfied. And when the condition          becomes false, the line immediately after the loop in the program is executed."
   ]
  },
  {
   "cell_type": "markdown",
   "id": "371b5f70-3679-426b-af44-f17f756f6a78",
   "metadata": {},
   "source": [
    "example :"
   ]
  },
  {
   "cell_type": "code",
   "execution_count": 6,
   "id": "4eba118b-6f15-46f5-a01d-780f43f3170d",
   "metadata": {},
   "outputs": [
    {
     "name": "stdout",
     "output_type": "stream",
     "text": [
      "pwskills\n",
      "pwskills\n",
      "pwskills\n",
      "pwskills\n",
      "pwskills\n"
     ]
    }
   ],
   "source": [
    "count = 0 \n",
    "\n",
    "while count < 5 :\n",
    "    count = count + 1\n",
    "    print (\"pwskills\")"
   ]
  },
  {
   "cell_type": "markdown",
   "id": "960a4cbb-973d-48f6-9b6e-427fe00dccc1",
   "metadata": {},
   "source": [
    "In the above example, the condition for while will be True as long as the counter variable (count) is less than 5."
   ]
  },
  {
   "cell_type": "markdown",
   "id": "a678d1e2-8318-4d69-8c46-a83ab0ca9883",
   "metadata": {},
   "source": [
    "Q 6 Answer "
   ]
  },
  {
   "cell_type": "code",
   "execution_count": 18,
   "id": "465bb7c0-41b6-4254-909c-2abf167f9540",
   "metadata": {},
   "outputs": [
    {
     "name": "stdout",
     "output_type": "stream",
     "text": [
      "* \n",
      "* * \n",
      "* * * \n",
      "* * * * \n"
     ]
    }
   ],
   "source": [
    "##pattern 1\n",
    "\n",
    "n = 5 \n",
    "\n",
    "i = 1\n",
    "\n",
    "j = 0\n",
    "while i < n :\n",
    "    while j <= i-1 :\n",
    "        print (\"*\",end=\" \")\n",
    "        j = j + 1\n",
    "    print(\"\\r\")\n",
    "    j = 0\n",
    "    i = i + 1\n",
    "    \n"
   ]
  },
  {
   "cell_type": "code",
   "execution_count": 27,
   "id": "e08732d2-c7a6-4900-bba1-e568424e3d98",
   "metadata": {},
   "outputs": [
    {
     "name": "stdout",
     "output_type": "stream",
     "text": [
      "* * * * \n",
      "* * * \n",
      "* * \n",
      "* \n",
      "\n"
     ]
    }
   ],
   "source": [
    "## pattern 2\n",
    "\n",
    "a = 5\n",
    "\n",
    "b = 1\n",
    "\n",
    "while b <= a :\n",
    "    \n",
    "    c = a\n",
    "    \n",
    "    while c >= b+1 :\n",
    "        print (\"*\",end=\" \")\n",
    "        c = c - 1\n",
    "    print (\"\\r\")\n",
    "    \n",
    "    b = b + 1"
   ]
  },
  {
   "cell_type": "code",
   "execution_count": 29,
   "id": "e064f772-7694-4005-b7a2-77936e8f68a3",
   "metadata": {},
   "outputs": [
    {
     "name": "stdout",
     "output_type": "stream",
     "text": [
      "\n",
      "0 \n",
      "0 1 \n",
      "0 1 2 \n",
      "0 1 2 3 \n",
      "0 1 2 3 4 \n"
     ]
    }
   ],
   "source": [
    "## pattern 3\n",
    "\n",
    "x = 6\n",
    "\n",
    "y = 1\n",
    "\n",
    "z = 0\n",
    "\n",
    "while y <= x :\n",
    "    while z < y-1 :\n",
    "        print (z,end=\" \")\n",
    "        z = z + 1\n",
    "    print (\"\\r\")\n",
    "    z = 0\n",
    "    y = y + 1"
   ]
  },
  {
   "cell_type": "markdown",
   "id": "741feac0-6bbf-429a-95d3-dbcf6c5dbf74",
   "metadata": {},
   "source": [
    "Q 7 Answer"
   ]
  },
  {
   "cell_type": "code",
   "execution_count": 4,
   "id": "a21d285a-1e9f-42de-8c1c-e44e166782a5",
   "metadata": {},
   "outputs": [
    {
     "name": "stdout",
     "output_type": "stream",
     "text": [
      "10\n",
      "9\n",
      "8\n",
      "7\n",
      "6\n",
      "5\n",
      "4\n",
      "3\n",
      "2\n",
      "1\n"
     ]
    }
   ],
   "source": [
    "p = 10\n",
    "\n",
    "q = 0\n",
    "\n",
    "while q < p :\n",
    "    print(p)\n",
    "    p = p - 1"
   ]
  },
  {
   "cell_type": "code",
   "execution_count": null,
   "id": "65627c31-5dd8-4cdd-a977-1676e525e9ec",
   "metadata": {},
   "outputs": [],
   "source": []
  }
 ],
 "metadata": {
  "kernelspec": {
   "display_name": "Python 3 (ipykernel)",
   "language": "python",
   "name": "python3"
  },
  "language_info": {
   "codemirror_mode": {
    "name": "ipython",
    "version": 3
   },
   "file_extension": ".py",
   "mimetype": "text/x-python",
   "name": "python",
   "nbconvert_exporter": "python",
   "pygments_lexer": "ipython3",
   "version": "3.10.8"
  }
 },
 "nbformat": 4,
 "nbformat_minor": 5
}
